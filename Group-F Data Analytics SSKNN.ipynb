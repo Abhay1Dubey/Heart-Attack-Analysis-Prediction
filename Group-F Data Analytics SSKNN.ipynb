{
 "cells": [
  {
   "cell_type": "code",
   "execution_count": 70,
   "metadata": {},
   "outputs": [],
   "source": [
    "import numpy as np\n",
    "import pandas as pd\n",
    "from sklearn.model_selection import train_test_split\n",
    "from sklearn.neighbors import KNeighborsClassifier"
   ]
  },
  {
   "cell_type": "code",
   "execution_count": 71,
   "metadata": {
    "scrolled": true
   },
   "outputs": [
    {
     "data": {
      "text/html": [
       "<div>\n",
       "<style scoped>\n",
       "    .dataframe tbody tr th:only-of-type {\n",
       "        vertical-align: middle;\n",
       "    }\n",
       "\n",
       "    .dataframe tbody tr th {\n",
       "        vertical-align: top;\n",
       "    }\n",
       "\n",
       "    .dataframe thead th {\n",
       "        text-align: right;\n",
       "    }\n",
       "</style>\n",
       "<table border=\"1\" class=\"dataframe\">\n",
       "  <thead>\n",
       "    <tr style=\"text-align: right;\">\n",
       "      <th></th>\n",
       "      <th>age</th>\n",
       "      <th>sex</th>\n",
       "      <th>cp</th>\n",
       "      <th>trtbps</th>\n",
       "      <th>chol</th>\n",
       "      <th>fbs</th>\n",
       "      <th>restecg</th>\n",
       "      <th>thalachh</th>\n",
       "      <th>exng</th>\n",
       "      <th>oldpeak</th>\n",
       "      <th>slp</th>\n",
       "      <th>caa</th>\n",
       "      <th>thall</th>\n",
       "      <th>output</th>\n",
       "    </tr>\n",
       "  </thead>\n",
       "  <tbody>\n",
       "    <tr>\n",
       "      <th>0</th>\n",
       "      <td>63</td>\n",
       "      <td>1</td>\n",
       "      <td>3</td>\n",
       "      <td>145</td>\n",
       "      <td>233</td>\n",
       "      <td>1</td>\n",
       "      <td>0</td>\n",
       "      <td>150</td>\n",
       "      <td>0</td>\n",
       "      <td>2.3</td>\n",
       "      <td>0</td>\n",
       "      <td>0</td>\n",
       "      <td>1</td>\n",
       "      <td>1</td>\n",
       "    </tr>\n",
       "    <tr>\n",
       "      <th>1</th>\n",
       "      <td>37</td>\n",
       "      <td>1</td>\n",
       "      <td>2</td>\n",
       "      <td>130</td>\n",
       "      <td>250</td>\n",
       "      <td>0</td>\n",
       "      <td>1</td>\n",
       "      <td>187</td>\n",
       "      <td>0</td>\n",
       "      <td>3.5</td>\n",
       "      <td>0</td>\n",
       "      <td>0</td>\n",
       "      <td>2</td>\n",
       "      <td>1</td>\n",
       "    </tr>\n",
       "    <tr>\n",
       "      <th>2</th>\n",
       "      <td>41</td>\n",
       "      <td>0</td>\n",
       "      <td>1</td>\n",
       "      <td>130</td>\n",
       "      <td>204</td>\n",
       "      <td>0</td>\n",
       "      <td>0</td>\n",
       "      <td>172</td>\n",
       "      <td>0</td>\n",
       "      <td>1.4</td>\n",
       "      <td>2</td>\n",
       "      <td>0</td>\n",
       "      <td>2</td>\n",
       "      <td>1</td>\n",
       "    </tr>\n",
       "    <tr>\n",
       "      <th>3</th>\n",
       "      <td>56</td>\n",
       "      <td>1</td>\n",
       "      <td>1</td>\n",
       "      <td>120</td>\n",
       "      <td>236</td>\n",
       "      <td>0</td>\n",
       "      <td>1</td>\n",
       "      <td>178</td>\n",
       "      <td>0</td>\n",
       "      <td>0.8</td>\n",
       "      <td>2</td>\n",
       "      <td>0</td>\n",
       "      <td>2</td>\n",
       "      <td>1</td>\n",
       "    </tr>\n",
       "    <tr>\n",
       "      <th>4</th>\n",
       "      <td>57</td>\n",
       "      <td>0</td>\n",
       "      <td>0</td>\n",
       "      <td>120</td>\n",
       "      <td>354</td>\n",
       "      <td>0</td>\n",
       "      <td>1</td>\n",
       "      <td>163</td>\n",
       "      <td>1</td>\n",
       "      <td>0.6</td>\n",
       "      <td>2</td>\n",
       "      <td>0</td>\n",
       "      <td>2</td>\n",
       "      <td>1</td>\n",
       "    </tr>\n",
       "    <tr>\n",
       "      <th>...</th>\n",
       "      <td>...</td>\n",
       "      <td>...</td>\n",
       "      <td>...</td>\n",
       "      <td>...</td>\n",
       "      <td>...</td>\n",
       "      <td>...</td>\n",
       "      <td>...</td>\n",
       "      <td>...</td>\n",
       "      <td>...</td>\n",
       "      <td>...</td>\n",
       "      <td>...</td>\n",
       "      <td>...</td>\n",
       "      <td>...</td>\n",
       "      <td>...</td>\n",
       "    </tr>\n",
       "    <tr>\n",
       "      <th>298</th>\n",
       "      <td>57</td>\n",
       "      <td>0</td>\n",
       "      <td>0</td>\n",
       "      <td>140</td>\n",
       "      <td>241</td>\n",
       "      <td>0</td>\n",
       "      <td>1</td>\n",
       "      <td>123</td>\n",
       "      <td>1</td>\n",
       "      <td>0.2</td>\n",
       "      <td>1</td>\n",
       "      <td>0</td>\n",
       "      <td>3</td>\n",
       "      <td>0</td>\n",
       "    </tr>\n",
       "    <tr>\n",
       "      <th>299</th>\n",
       "      <td>45</td>\n",
       "      <td>1</td>\n",
       "      <td>3</td>\n",
       "      <td>110</td>\n",
       "      <td>264</td>\n",
       "      <td>0</td>\n",
       "      <td>1</td>\n",
       "      <td>132</td>\n",
       "      <td>0</td>\n",
       "      <td>1.2</td>\n",
       "      <td>1</td>\n",
       "      <td>0</td>\n",
       "      <td>3</td>\n",
       "      <td>0</td>\n",
       "    </tr>\n",
       "    <tr>\n",
       "      <th>300</th>\n",
       "      <td>68</td>\n",
       "      <td>1</td>\n",
       "      <td>0</td>\n",
       "      <td>144</td>\n",
       "      <td>193</td>\n",
       "      <td>1</td>\n",
       "      <td>1</td>\n",
       "      <td>141</td>\n",
       "      <td>0</td>\n",
       "      <td>3.4</td>\n",
       "      <td>1</td>\n",
       "      <td>2</td>\n",
       "      <td>3</td>\n",
       "      <td>0</td>\n",
       "    </tr>\n",
       "    <tr>\n",
       "      <th>301</th>\n",
       "      <td>57</td>\n",
       "      <td>1</td>\n",
       "      <td>0</td>\n",
       "      <td>130</td>\n",
       "      <td>131</td>\n",
       "      <td>0</td>\n",
       "      <td>1</td>\n",
       "      <td>115</td>\n",
       "      <td>1</td>\n",
       "      <td>1.2</td>\n",
       "      <td>1</td>\n",
       "      <td>1</td>\n",
       "      <td>3</td>\n",
       "      <td>0</td>\n",
       "    </tr>\n",
       "    <tr>\n",
       "      <th>302</th>\n",
       "      <td>57</td>\n",
       "      <td>0</td>\n",
       "      <td>1</td>\n",
       "      <td>130</td>\n",
       "      <td>236</td>\n",
       "      <td>0</td>\n",
       "      <td>0</td>\n",
       "      <td>174</td>\n",
       "      <td>0</td>\n",
       "      <td>0.0</td>\n",
       "      <td>1</td>\n",
       "      <td>1</td>\n",
       "      <td>2</td>\n",
       "      <td>0</td>\n",
       "    </tr>\n",
       "  </tbody>\n",
       "</table>\n",
       "<p>303 rows × 14 columns</p>\n",
       "</div>"
      ],
      "text/plain": [
       "     age  sex  cp  trtbps  chol  fbs  restecg  thalachh  exng  oldpeak  slp  \\\n",
       "0     63    1   3     145   233    1        0       150     0      2.3    0   \n",
       "1     37    1   2     130   250    0        1       187     0      3.5    0   \n",
       "2     41    0   1     130   204    0        0       172     0      1.4    2   \n",
       "3     56    1   1     120   236    0        1       178     0      0.8    2   \n",
       "4     57    0   0     120   354    0        1       163     1      0.6    2   \n",
       "..   ...  ...  ..     ...   ...  ...      ...       ...   ...      ...  ...   \n",
       "298   57    0   0     140   241    0        1       123     1      0.2    1   \n",
       "299   45    1   3     110   264    0        1       132     0      1.2    1   \n",
       "300   68    1   0     144   193    1        1       141     0      3.4    1   \n",
       "301   57    1   0     130   131    0        1       115     1      1.2    1   \n",
       "302   57    0   1     130   236    0        0       174     0      0.0    1   \n",
       "\n",
       "     caa  thall  output  \n",
       "0      0      1       1  \n",
       "1      0      2       1  \n",
       "2      0      2       1  \n",
       "3      0      2       1  \n",
       "4      0      2       1  \n",
       "..   ...    ...     ...  \n",
       "298    0      3       0  \n",
       "299    0      3       0  \n",
       "300    2      3       0  \n",
       "301    1      3       0  \n",
       "302    1      2       0  \n",
       "\n",
       "[303 rows x 14 columns]"
      ]
     },
     "execution_count": 71,
     "metadata": {},
     "output_type": "execute_result"
    }
   ],
   "source": [
    "df = pd.read_csv(r'C:\\Users\\aakas\\Downloads\\heart.csv')\n",
    "df"
   ]
  },
  {
   "cell_type": "code",
   "execution_count": 72,
   "metadata": {},
   "outputs": [
    {
     "data": {
      "text/plain": [
       "array([1, 0], dtype=int64)"
      ]
     },
     "execution_count": 72,
     "metadata": {},
     "output_type": "execute_result"
    }
   ],
   "source": [
    "df['output'].unique()"
   ]
  },
  {
   "cell_type": "code",
   "execution_count": 73,
   "metadata": {},
   "outputs": [],
   "source": [
    "y=df['output'] \n",
    "X = df.drop('output', axis = 1)\n",
    "X_train, X_test, y_train, y_test = train_test_split(\n",
    "             X, y, test_size = 0.2, random_state = 0)"
   ]
  },
  {
   "cell_type": "code",
   "execution_count": 74,
   "metadata": {},
   "outputs": [
    {
     "data": {
      "text/plain": [
       "74     1\n",
       "153    1\n",
       "64     1\n",
       "296    0\n",
       "287    0\n",
       "286    0\n",
       "236    0\n",
       "126    1\n",
       "73     1\n",
       "20     1\n",
       "Name: output, dtype: int64"
      ]
     },
     "execution_count": 74,
     "metadata": {},
     "output_type": "execute_result"
    }
   ],
   "source": [
    "y_train[0:10]"
   ]
  },
  {
   "cell_type": "code",
   "execution_count": 75,
   "metadata": {},
   "outputs": [
    {
     "data": {
      "text/plain": [
       "((242, 13), (242,))"
      ]
     },
     "execution_count": 75,
     "metadata": {},
     "output_type": "execute_result"
    }
   ],
   "source": [
    "X_train.shape,y_train.shape"
   ]
  },
  {
   "cell_type": "code",
   "execution_count": 76,
   "metadata": {},
   "outputs": [
    {
     "data": {
      "text/plain": [
       "((61, 13), (61,))"
      ]
     },
     "execution_count": 76,
     "metadata": {},
     "output_type": "execute_result"
    }
   ],
   "source": [
    "X_test.shape,y_test.shape"
   ]
  },
  {
   "cell_type": "code",
   "execution_count": 77,
   "metadata": {},
   "outputs": [],
   "source": [
    "X = df.drop('output', axis = 1)\n",
    "from sklearn.preprocessing import StandardScaler\n",
    "scaler = StandardScaler()\n",
    "X=scaler.fit_transform(X)\n",
    "X_train, X_test, y_train, y_test = train_test_split(\n",
    "             X, y, test_size = 0.2, random_state = 0)"
   ]
  },
  {
   "cell_type": "code",
   "execution_count": 78,
   "metadata": {},
   "outputs": [
    {
     "data": {
      "text/plain": [
       "array([[-1.25357993, -1.46841752,  1.00257707, -0.54964101, -0.64284335,\n",
       "        -0.41763453,  0.89896224,  0.67140036, -0.69663055, -0.7243226 ,\n",
       "        -0.64911323, -0.71442887, -0.51292188],\n",
       "       [ 1.28306308, -1.46841752,  1.00257707,  0.82106867,  0.613313  ,\n",
       "        -0.41763453, -1.00583187,  0.1029038 , -0.69663055, -0.89686172,\n",
       "        -0.64911323,  0.26508221, -0.51292188],\n",
       "       [ 0.40075247,  0.68100522,  1.00257707,  0.47839125, -0.68149432,\n",
       "         2.394438  , -1.00583187,  0.67140036, -0.69663055, -0.89686172,\n",
       "         0.97635214, -0.71442887, -0.51292188],\n",
       "       [ 0.9521966 , -1.46841752, -0.93851463, -0.43541521, -0.95205107,\n",
       "        -0.41763453,  0.89896224, -0.59678428,  1.43548113, -0.89686172,\n",
       "        -0.64911323, -0.71442887, -0.51292188],\n",
       "       [ 0.29046364,  0.68100522,  0.03203122,  1.2779719 , -0.27565919,\n",
       "        -0.41763453, -1.00583187,  0.62766985, -0.69663055, -0.89686172,\n",
       "         0.97635214,  0.26508221, -0.51292188],\n",
       "       [ 0.5110413 ,  0.68100522,  1.97312292,  0.13571383, -0.81677269,\n",
       "        -0.41763453,  0.89896224,  0.54020884, -0.69663055, -0.20670527,\n",
       "         0.97635214,  1.24459328, -0.51292188],\n",
       "       [ 0.40075247,  0.68100522, -0.93851463, -0.3783023 ,  1.03847361,\n",
       "        -0.41763453, -1.00583187,  0.93378339, -0.69663055, -0.89686172,\n",
       "         0.97635214,  1.24459328,  1.12302895],\n",
       "       [-0.81242462,  0.68100522, -0.93851463, -1.12077005, -0.81677269,\n",
       "        -0.41763453,  0.89896224, -0.29067075, -0.69663055, -0.81059216,\n",
       "         0.97635214, -0.71442887, -0.51292188],\n",
       "       [-0.37126932,  0.68100522, -0.93851463,  0.47839125,  0.2847798 ,\n",
       "        -0.41763453, -1.00583187,  1.58974096,  1.43548113, -0.89686172,\n",
       "         0.97635214, -0.71442887, -0.51292188],\n",
       "       [ 0.5110413 ,  0.68100522, -0.93851463,  0.19282673, -0.23700823,\n",
       "        -0.41763453,  0.89896224,  0.49647834, -0.69663055, -0.46551394,\n",
       "        -0.64911323, -0.71442887,  1.12302895]])"
      ]
     },
     "execution_count": 78,
     "metadata": {},
     "output_type": "execute_result"
    }
   ],
   "source": [
    "X_train[0:10]"
   ]
  },
  {
   "cell_type": "code",
   "execution_count": 101,
   "metadata": {},
   "outputs": [],
   "source": [
    "K = []\n",
    "training = []\n",
    "test = []\n",
    "scores = {}\n",
    "  \n",
    "for k in range(1, 40):\n",
    "    clf = KNeighborsClassifier(n_neighbors = k)\n",
    "    clf.fit(X_train, y_train)\n",
    "\n",
    "    training_score = clf.score(X_train, y_train)\n",
    "    test_score = clf.score(X_test, y_test)\n",
    "    K.append(k)\n",
    "\n",
    "    training.append(training_score)\n",
    "    test.append(test_score)\n",
    "    scores[k] = [training_score, test_score]"
   ]
  },
  {
   "cell_type": "code",
   "execution_count": 102,
   "metadata": {},
   "outputs": [
    {
     "name": "stdout",
     "output_type": "stream",
     "text": [
      "1 : [1.0, 0.819672131147541]\n",
      "2 : [0.871900826446281, 0.819672131147541]\n",
      "3 : [0.8636363636363636, 0.8360655737704918]\n",
      "4 : [0.8760330578512396, 0.8524590163934426]\n",
      "5 : [0.8677685950413223, 0.819672131147541]\n",
      "6 : [0.8471074380165289, 0.8524590163934426]\n",
      "7 : [0.8553719008264463, 0.8360655737704918]\n",
      "8 : [0.8512396694214877, 0.8852459016393442]\n",
      "9 : [0.8553719008264463, 0.8524590163934426]\n",
      "10 : [0.8512396694214877, 0.8852459016393442]\n",
      "11 : [0.8553719008264463, 0.8360655737704918]\n",
      "12 : [0.8553719008264463, 0.819672131147541]\n",
      "13 : [0.8471074380165289, 0.8524590163934426]\n",
      "14 : [0.8471074380165289, 0.8524590163934426]\n",
      "15 : [0.8553719008264463, 0.8524590163934426]\n",
      "16 : [0.8553719008264463, 0.8524590163934426]\n",
      "17 : [0.8553719008264463, 0.8524590163934426]\n",
      "18 : [0.859504132231405, 0.8524590163934426]\n",
      "19 : [0.8512396694214877, 0.819672131147541]\n",
      "20 : [0.8512396694214877, 0.819672131147541]\n",
      "21 : [0.8429752066115702, 0.819672131147541]\n",
      "22 : [0.8553719008264463, 0.8360655737704918]\n",
      "23 : [0.8429752066115702, 0.8360655737704918]\n",
      "24 : [0.8512396694214877, 0.8360655737704918]\n",
      "25 : [0.8388429752066116, 0.819672131147541]\n",
      "26 : [0.8388429752066116, 0.8360655737704918]\n",
      "27 : [0.8388429752066116, 0.8032786885245902]\n",
      "28 : [0.8305785123966942, 0.819672131147541]\n",
      "29 : [0.8347107438016529, 0.8032786885245902]\n",
      "30 : [0.8347107438016529, 0.8032786885245902]\n",
      "31 : [0.8347107438016529, 0.8032786885245902]\n",
      "32 : [0.8305785123966942, 0.8032786885245902]\n",
      "33 : [0.8305785123966942, 0.8032786885245902]\n",
      "34 : [0.8305785123966942, 0.8032786885245902]\n",
      "35 : [0.8305785123966942, 0.8032786885245902]\n",
      "36 : [0.8347107438016529, 0.8032786885245902]\n",
      "37 : [0.8305785123966942, 0.8032786885245902]\n",
      "38 : [0.8305785123966942, 0.8032786885245902]\n",
      "39 : [0.8305785123966942, 0.8032786885245902]\n"
     ]
    }
   ],
   "source": [
    "for keys, values in scores.items():\n",
    "    print(keys, ':', values)\n"
   ]
  },
  {
   "cell_type": "code",
   "execution_count": 103,
   "metadata": {},
   "outputs": [],
   "source": [
    "#from sklearn.linear_model import LogisticRegression\n",
    "from sklearn.metrics import accuracy_score"
   ]
  },
  {
   "cell_type": "code",
   "execution_count": 104,
   "metadata": {},
   "outputs": [
    {
     "name": "stdout",
     "output_type": "stream",
     "text": [
      "The accuracy of KNN is :  88.52459016393442 %\n"
     ]
    }
   ],
   "source": [
    "model = KNeighborsClassifier(n_neighbors = 8)\n",
    "  \n",
    "model.fit(X_train, y_train)\n",
    "predicted = model.predict(X_test)\n",
    "print(\"The accuracy of KNN is : \", accuracy_score(y_test, predicted.round())*100, \"%\")"
   ]
  },
  {
   "cell_type": "code",
   "execution_count": 106,
   "metadata": {},
   "outputs": [
    {
     "name": "stdout",
     "output_type": "stream",
     "text": [
      "The accuracy score is: 85.24590163934425\n"
     ]
    }
   ],
   "source": [
    "#logreg=LogisticRegression()\n",
    "\n",
    "#logreg.fit(X_train, y_train)\n",
    "\n",
    "#y_pred_prob = logreg.predict_proba(X_test)\n",
    "\n",
    "#y_pred = np.argmax(y_pred_prob,axis=1)\n",
    "\n",
    "#print(\"The accuracy score is:\", 100 * accuracy_score(y_test,y_pred))"
   ]
  },
  {
   "cell_type": "code",
   "execution_count": null,
   "metadata": {},
   "outputs": [],
   "source": []
  }
 ],
 "metadata": {
  "kernelspec": {
   "display_name": "Python 3 (ipykernel)",
   "language": "python",
   "name": "python3"
  },
  "language_info": {
   "codemirror_mode": {
    "name": "ipython",
    "version": 3
   },
   "file_extension": ".py",
   "mimetype": "text/x-python",
   "name": "python",
   "nbconvert_exporter": "python",
   "pygments_lexer": "ipython3",
   "version": "3.10.4"
  }
 },
 "nbformat": 4,
 "nbformat_minor": 4
}
